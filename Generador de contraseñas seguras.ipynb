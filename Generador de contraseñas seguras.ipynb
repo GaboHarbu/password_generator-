{
 "cells": [
  {
   "cell_type": "code",
   "execution_count": 8,
   "metadata": {},
   "outputs": [
    {
     "name": "stdout",
     "output_type": "stream",
     "text": [
      "Ingresa la longitud deseada de tu contraseña, la misma debe tener por lo menos 8 caracteres: 12\n",
      "G({HG2U&.o3$\n"
     ]
    }
   ],
   "source": [
    "\n",
    "import random\n",
    "\n",
    "\n",
    "\n",
    "lenght=int(input('Ingresa la longitud deseada de tu contraseña, la misma debe tener por lo menos 8 caracteres: '))\n",
    "\n",
    "while lenght<8:\n",
    "    lenght=int(input('Recorda que la contraseña debe tener por lo menos 8 caracteres: '))\n",
    "\n",
    "base=('bcdefghijklmnopqrstuvwxyzABCDEFGHIJKLMNOPQRSTUVWXYZ1234567890~!@#$%^&*()-_=+[{}]|<,.>/?`')\n",
    "\n",
    "\n",
    "def generador_contraseña(lenght, base):\n",
    "    pass_list=list(base)\n",
    "\n",
    "    final_list=(random.choices(pass_list, k=lenght))\n",
    "\n",
    "    cadena = ''.join(final_list)\n",
    "\n",
    "    print(cadena)\n",
    "    \n",
    "    \n",
    "generador_contraseña(lenght, base)\n",
    "\n"
   ]
  },
  {
   "cell_type": "code",
   "execution_count": null,
   "metadata": {},
   "outputs": [],
   "source": []
  },
  {
   "cell_type": "code",
   "execution_count": 3,
   "metadata": {},
   "outputs": [
    {
     "name": "stdout",
     "output_type": "stream",
     "text": [
      "¿Que tipo de contraseña quiere decifrar?\n",
      "1) Alfanumerica y simbolos \n",
      "2) Alfanumerica \n",
      "3) Alfabetica \n",
      "3\n",
      "Introduzca la contraseña a decifrar: pep\n",
      "La contraseña es:  pep\n",
      "El programa tardo en decifrar la contraseña: Dias: 0.0 - Horas: 0.0 -  minutos: 0.0 - segundos: 0.017 \n"
     ]
    }
   ],
   "source": [
    "\n",
    "    "
   ]
  },
  {
   "cell_type": "code",
   "execution_count": null,
   "metadata": {},
   "outputs": [],
   "source": []
  },
  {
   "cell_type": "code",
   "execution_count": null,
   "metadata": {},
   "outputs": [],
   "source": []
  },
  {
   "cell_type": "code",
   "execution_count": null,
   "metadata": {},
   "outputs": [],
   "source": [
    "\n"
   ]
  },
  {
   "cell_type": "code",
   "execution_count": null,
   "metadata": {},
   "outputs": [],
   "source": []
  }
 ],
 "metadata": {
  "kernelspec": {
   "display_name": "Python 3",
   "language": "python",
   "name": "python3"
  },
  "language_info": {
   "codemirror_mode": {
    "name": "ipython",
    "version": 3
   },
   "file_extension": ".py",
   "mimetype": "text/x-python",
   "name": "python",
   "nbconvert_exporter": "python",
   "pygments_lexer": "ipython3",
   "version": "3.8.5"
  }
 },
 "nbformat": 4,
 "nbformat_minor": 4
}
